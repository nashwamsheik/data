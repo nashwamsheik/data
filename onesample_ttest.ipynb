{
 "cells": [
  {
   "cell_type": "code",
   "execution_count": 1,
   "id": "cf95dd7e-7d52-4366-a519-cf4efb36f666",
   "metadata": {},
   "outputs": [],
   "source": [
    "#an outbreak of Salmonella-related illness was attributed to ice cream produced at a\n",
    "#certain factory.Scientists measured the level of Salmonella in 9 randomly sampled\n",
    "#batches of ice-cream.The levels(in MPN/g) were\n",
    "    #0.593,0.142,0.329,0.691,0.231,0.793,0.519,0.392,0.418\n",
    "\n",
    "#is there evidence that the mean level of Salmonella in the ice cream is greater than \n",
    "#0.3 MPN/g?\n",
    "\n",
    "# THERE ARE TWO DIFFERENT CALCULATIONS FOR THIS QUESTION,ONE FOR IN-DEPTH UNDERSTANDING OF\n",
    "# P VALUES AND ANOTHER FOR SHORTCUT FINDING."
   ]
  },
  {
   "cell_type": "code",
   "execution_count": 2,
   "id": "15c21111-89e4-46f9-8d71-313f2953d52e",
   "metadata": {},
   "outputs": [
    {
     "data": {
      "text/html": [
       "<div>\n",
       "<style scoped>\n",
       "    .dataframe tbody tr th:only-of-type {\n",
       "        vertical-align: middle;\n",
       "    }\n",
       "\n",
       "    .dataframe tbody tr th {\n",
       "        vertical-align: top;\n",
       "    }\n",
       "\n",
       "    .dataframe thead th {\n",
       "        text-align: right;\n",
       "    }\n",
       "</style>\n",
       "<table border=\"1\" class=\"dataframe\">\n",
       "  <thead>\n",
       "    <tr style=\"text-align: right;\">\n",
       "      <th></th>\n",
       "      <th>salmonella</th>\n",
       "    </tr>\n",
       "  </thead>\n",
       "  <tbody>\n",
       "    <tr>\n",
       "      <th>0</th>\n",
       "      <td>0.593</td>\n",
       "    </tr>\n",
       "    <tr>\n",
       "      <th>1</th>\n",
       "      <td>0.142</td>\n",
       "    </tr>\n",
       "    <tr>\n",
       "      <th>2</th>\n",
       "      <td>0.329</td>\n",
       "    </tr>\n",
       "    <tr>\n",
       "      <th>3</th>\n",
       "      <td>0.691</td>\n",
       "    </tr>\n",
       "    <tr>\n",
       "      <th>4</th>\n",
       "      <td>0.231</td>\n",
       "    </tr>\n",
       "    <tr>\n",
       "      <th>5</th>\n",
       "      <td>0.793</td>\n",
       "    </tr>\n",
       "    <tr>\n",
       "      <th>6</th>\n",
       "      <td>0.519</td>\n",
       "    </tr>\n",
       "    <tr>\n",
       "      <th>7</th>\n",
       "      <td>0.392</td>\n",
       "    </tr>\n",
       "    <tr>\n",
       "      <th>8</th>\n",
       "      <td>0.418</td>\n",
       "    </tr>\n",
       "  </tbody>\n",
       "</table>\n",
       "</div>"
      ],
      "text/plain": [
       "   salmonella\n",
       "0       0.593\n",
       "1       0.142\n",
       "2       0.329\n",
       "3       0.691\n",
       "4       0.231\n",
       "5       0.793\n",
       "6       0.519\n",
       "7       0.392\n",
       "8       0.418"
      ]
     },
     "execution_count": 2,
     "metadata": {},
     "output_type": "execute_result"
    }
   ],
   "source": [
    "import pandas as pd\n",
    "data={'salmonella':[0.593,0.142,0.329,0.691,0.231,0.793,0.519,0.392,0.418]}\n",
    "df=pd.DataFrame(data)\n",
    "df.head(9)\n",
    "\n",
    "#we got 9 random samples.\n",
    "#lets calculate sample mean."
   ]
  },
  {
   "cell_type": "code",
   "execution_count": 11,
   "id": "d346f150-ae11-46cd-9f10-a7662e04a281",
   "metadata": {},
   "outputs": [
    {
     "data": {
      "text/plain": [
       "np.float64(0.45644444444444443)"
      ]
     },
     "execution_count": 11,
     "metadata": {},
     "output_type": "execute_result"
    }
   ],
   "source": [
    "s_mean=df.salmonella.mean()\n",
    "s_mean"
   ]
  },
  {
   "cell_type": "code",
   "execution_count": 12,
   "id": "241f78df-abae-4305-bccb-38d3d0f69f52",
   "metadata": {},
   "outputs": [
    {
     "data": {
      "text/plain": [
       "0.212843904723104"
      ]
     },
     "execution_count": 12,
     "metadata": {},
     "output_type": "execute_result"
    }
   ],
   "source": [
    "s_std=df.salmonella.std()\n",
    "s_std"
   ]
  },
  {
   "cell_type": "code",
   "execution_count": 37,
   "id": "fffb1faa-5e33-4c02-ad56-8a243e00418c",
   "metadata": {},
   "outputs": [
    {
     "data": {
      "text/plain": [
       "np.float64(0.07094796824103466)"
      ]
     },
     "execution_count": 37,
     "metadata": {},
     "output_type": "execute_result"
    }
   ],
   "source": [
    "#here null hypothesis is population mean level of salmonella<=0.3\n",
    "#alternate hypothesis is population mean level of salmonella>0.3\n",
    "#since we dont know the population standard deviation and also our sample size is less,\n",
    "#we cant use normal distribution but rather t-distribution!\n",
    "\n",
    "#for our sampling distribution assuming the mean is 0.3,lets calculate the standard error.\n",
    "\n",
    "import numpy as np\n",
    "std_error=s_std/np.sqrt(9)\n",
    "std_error"
   ]
  },
  {
   "cell_type": "code",
   "execution_count": 38,
   "id": "525a54aa-4bbe-4f64-b98c-4f1a0c6ee3cd",
   "metadata": {},
   "outputs": [
    {
     "data": {
      "text/plain": [
       "np.float64(2.2050588385131595)"
      ]
     },
     "execution_count": 38,
     "metadata": {},
     "output_type": "execute_result"
    }
   ],
   "source": [
    "#lets calculate the t-score\n",
    "t_score=(s_mean-0.3)/std_error\n",
    "t_score"
   ]
  },
  {
   "cell_type": "code",
   "execution_count": 39,
   "id": "e29ce165-ac65-4da8-82b3-99552d6e2e48",
   "metadata": {},
   "outputs": [
    {
     "data": {
      "text/plain": [
       "np.float64(0.029265164842448788)"
      ]
     },
     "execution_count": 39,
     "metadata": {},
     "output_type": "execute_result"
    }
   ],
   "source": [
    "#lets calculate the probability or p-value now\n",
    "from scipy import stats\n",
    "\n",
    "p_value=1-stats.t.cdf(t_score,df=8)\n",
    "p_value"
   ]
  },
  {
   "cell_type": "code",
   "execution_count": null,
   "id": "862d6ad6-3009-4d4e-aabd-7e1fb24c37c9",
   "metadata": {},
   "outputs": [],
   "source": [
    "#lets assume the significance level to be 0.05\n",
    "#we got p_value<0.05 which means we gotta reject the null hypothesis.\n",
    "\n",
    "#HENCE,THERE IS NO EVIDENCE THAT THE MEAN LEVEL OF SALMONELLA IN THE ICE CREAM IS\n",
    "#LESS THAN OR EQUAL TO 0.3 MPN/G!"
   ]
  },
  {
   "cell_type": "code",
   "execution_count": null,
   "id": "0babb36a-3234-4ca3-adbd-d9701964e2bf",
   "metadata": {},
   "outputs": [],
   "source": [
    "#NOW LETS FIND THIS WITH JUST ONE LINE OF CODE."
   ]
  },
  {
   "cell_type": "code",
   "execution_count": 36,
   "id": "70188a15-b647-4353-b510-3e87f3712072",
   "metadata": {},
   "outputs": [
    {
     "data": {
      "text/plain": [
       "array([0.02926516])"
      ]
     },
     "execution_count": 36,
     "metadata": {},
     "output_type": "execute_result"
    }
   ],
   "source": [
    "from scipy.stats import ttest_1samp\n",
    "\n",
    "# Perform one-sample t-test\n",
    "t_stat,p_value=ttest_1samp(df,0.3)\n",
    "one_tailed_pvalue=p_value/2\n",
    "one_tailed_pvalue\n",
    "\n",
    "#the code ttest_1samp automatically uses the standard error internally.\n",
    "# Here’s what happens inside ttest_1samp:\n",
    "# It calculates the sample mean and sample standard deviation.\n",
    "# It computes the standard error.\n",
    "# It calculates the t-statistic.\n",
    "# It finds the p-value using the t-distribution with n-1 degrees of freedom."
   ]
  },
  {
   "cell_type": "code",
   "execution_count": null,
   "id": "8c6f78fd-dfd1-4229-aada-1079b7594fef",
   "metadata": {},
   "outputs": [],
   "source": []
  }
 ],
 "metadata": {
  "kernelspec": {
   "display_name": "Python [conda env:base] *",
   "language": "python",
   "name": "conda-base-py"
  },
  "language_info": {
   "codemirror_mode": {
    "name": "ipython",
    "version": 3
   },
   "file_extension": ".py",
   "mimetype": "text/x-python",
   "name": "python",
   "nbconvert_exporter": "python",
   "pygments_lexer": "ipython3",
   "version": "3.13.5"
  }
 },
 "nbformat": 4,
 "nbformat_minor": 5
}
